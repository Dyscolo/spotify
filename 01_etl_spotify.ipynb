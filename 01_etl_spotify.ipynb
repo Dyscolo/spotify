{
 "cells": [
  {
   "cell_type": "markdown",
   "id": "51c0926e",
   "metadata": {},
   "source": [
    "# Aniversario Power BI !\n",
    "\n",
    "## Integración completa End-to-End (ETL JSON Spotify Extended Streaming History - Power BI) \n",
    "\n",
    "Flujo del proyecto:\n",
    "\n",
    "1. Integración, etiquetado y limpieza de datos de `Spotify Extended Streaming History` de 3 usuarios.\n",
    "2. Integración de JSON a una lista completa.\n",
    "3. Carga de ficheros JSON combinado en MongoDB: </br>\n",
    "    3. 1. Nombre de la base de datos: [Spotify]</br>\n",
    "    3. 2. Nombre de la colección: [Stream] </br>\n",
    "    3. 3. Realizamos una validación de datos cargados completamente.</br>\n",
    "4. Conexión a MongoDB mediante Power BI.\n",
    "5. Elaboración de Dashaboard en entorno Power BI."
   ]
  },
  {
   "cell_type": "markdown",
   "id": "d8fcbe51",
   "metadata": {},
   "source": [
    "# 📒 Notebook ETL Spotify → MongoDB\n",
    "\n",
    "---\n",
    "\n",
    "## 1) Tarea  \n",
    "**“Integrar todos los JSON de ‘Spotify Extended Streaming History’ y cargarlos en MongoDB.”**\n",
    "\n",
    "---\n",
    "\n",
    "## 2) Por qué lo haces  \n",
    "- Centralizar tu historial de reproducción en una base de datos document-oriented.  \n",
    "- Facilitar consultas, agregaciones y refrescos automáticos desde Power BI.  \n",
    "- Practicar un pipeline **E**xtract-**L**oad sencillo y reproducible.\n",
    "\n",
    "---\n",
    "\n",
    "## 3) Lógica  \n",
    "1. **Cargar variables** desde `.env` (credenciales y paths).  \n",
    "2. **Conectar** al servidor MongoDB con `pymongo`.  \n",
    "3. **Recorrer** recursivamente todos los JSON bajo `data/`.  \n",
    "4. **Leer** cada archivo y acumular registros en una lista.  \n",
    "5. **Insertar** en bloque (`insert_many`) en la colección destino.  \n",
    "6. **Validar** con conteo de documentos y mostrar muestras.\n",
    "\n",
    "---\n",
    "\n",
    "---\n",
    "\n",
    "## 💻 4) Código paso a paso"
   ]
  },
  {
   "cell_type": "markdown",
   "id": "23f40c12",
   "metadata": {},
   "source": [
    "\n",
    "### 1. Instalación de librerías (solo la primera vez)\n",
    "```python\n",
    "# !pip install pymongo python-dotenv tqdm\n"
   ]
  },
  {
   "cell_type": "markdown",
   "id": "aed5e54f",
   "metadata": {},
   "source": [
    "### 2. Imports y carga de variables\n",
    "Objetivo: leer tu .env y obtener toda la configuración desde ahí."
   ]
  },
  {
   "cell_type": "code",
   "execution_count": 2,
   "id": "6e204304",
   "metadata": {},
   "outputs": [],
   "source": [
    "from pathlib import Path\n",
    "import os, json\n",
    "from pymongo import MongoClient\n",
    "from tqdm import tqdm\n",
    "from dotenv import load_dotenv\n",
    "\n",
    "# Carga las variables del .env (sin hardcodear localhost aquí)\n",
    "load_dotenv()\n",
    "\n",
    "# Ahora todas las rutas y credenciales vienen de tu .env\n",
    "MONGO_URI = os.getenv(\"MONGO_URI\")\n",
    "DB_NAME   = os.getenv(\"DB_NAME\")\n",
    "COLL_NAME = os.getenv(\"COLL_NAME\")\n",
    "DATA_ROOT = Path(os.getenv(\"DATA_ROOT\", \"data\"))\n",
    "\n",
    "assert MONGO_URI, \"🛑 Define MONGO_URI en tu .env antes de seguir.\"\n",
    "assert DB_NAME,   \"🛑 Define DB_NAME en tu .env antes de seguir.\"\n",
    "assert COLL_NAME, \"🛑 Define COLL_NAME en tu .env antes de seguir.\"\n"
   ]
  },
  {
   "cell_type": "markdown",
   "id": "0a61b8d5",
   "metadata": {},
   "source": [
    "### 3. Conexión y “creación” de DB/colección\n",
    "Objetivo: conectar a Mongo y preparar el objeto coll. Mongo creará la base y colección al primer insert_many."
   ]
  },
  {
   "cell_type": "code",
   "execution_count": 3,
   "id": "2924c659",
   "metadata": {},
   "outputs": [
    {
     "name": "stdout",
     "output_type": "stream",
     "text": [
      "✅ Conectado a MongoDB: ('localhost', 27017)\n",
      "▶️ Base de datos apuntada: spotify\n",
      "▶️ Colección apuntada: extended_streams\n"
     ]
    }
   ],
   "source": [
    "# 3) Conectar a MongoDB y preparar colección\n",
    "client = MongoClient(MONGO_URI)\n",
    "\n",
    "# Refiere la DB; no hace falta crearla manualmente\n",
    "db   = client[DB_NAME]\n",
    "\n",
    "# Refiere la colección; tampoco es necesario crearla antes\n",
    "coll = db[COLL_NAME]\n",
    "\n",
    "# Verificación rápida\n",
    "print(\"✅ Conectado a MongoDB:\", client.address)\n",
    "print(\"▶️ Base de datos apuntada:\", db.name)\n",
    "print(\"▶️ Colección apuntada:\", coll.name)\n"
   ]
  },
  {
   "cell_type": "markdown",
   "id": "3064a06d",
   "metadata": {},
   "source": [
    "### 4. Leer todos los JSON (preparación)\n",
    "Objetivo: listar rutas de JSON y contar cuántos archivos hay antes de leerlos."
   ]
  },
  {
   "cell_type": "code",
   "execution_count": null,
   "id": "da329307",
   "metadata": {},
   "outputs": [
    {
     "name": "stdout",
     "output_type": "stream",
     "text": [
      "🔍 Encontrados 52 archivos JSON en total:\n",
      "   • Streaming_History_Audio_2017-2018_0.json\n",
      "   • Streaming_History_Audio_2018-2019_3.json\n",
      "   • Streaming_History_Audio_2018_1.json\n",
      "   • Streaming_History_Audio_2018_2.json\n",
      "   • Streaming_History_Audio_2019-2020_7.json\n",
      "   • Streaming_History_Audio_2019_4.json\n",
      "   • Streaming_History_Audio_2019_5.json\n",
      "   • Streaming_History_Audio_2019_6.json\n",
      "   • Streaming_History_Audio_2020-2021_11.json\n",
      "   • Streaming_History_Audio_2020_10.json\n",
      "   • Streaming_History_Audio_2020_8.json\n",
      "   • Streaming_History_Audio_2020_9.json\n",
      "   • Streaming_History_Audio_2021-2022_14.json\n",
      "   • Streaming_History_Audio_2021_12.json\n",
      "   • Streaming_History_Audio_2021_13.json\n",
      "   • Streaming_History_Audio_2022-2023_17.json\n",
      "   • Streaming_History_Audio_2022_15.json\n",
      "   • Streaming_History_Audio_2022_16.json\n",
      "   • Streaming_History_Audio_2023-2024_21.json\n",
      "   • Streaming_History_Audio_2023_18.json\n",
      "   • Streaming_History_Audio_2023_19.json\n",
      "   • Streaming_History_Audio_2023_20.json\n",
      "   • Streaming_History_Audio_2024-2025_23.json\n",
      "   • Streaming_History_Audio_2024_22.json\n",
      "   • Streaming_History_Audio_2025_24.json\n",
      "   • Streaming_History_Audio_2025_25.json\n",
      "   • Streaming_History_Video_2018-2025.json\n",
      "   • Streaming_History_Audio_2014-2018_0.json\n",
      "   • Streaming_History_Audio_2018-2019_1.json\n",
      "   • Streaming_History_Audio_2019-2020_3.json\n",
      "   • Streaming_History_Audio_2019_2.json\n",
      "   • Streaming_History_Audio_2020-2021_4.json\n",
      "   • Streaming_History_Audio_2021-2022_6.json\n",
      "   • Streaming_History_Audio_2021_5.json\n",
      "   • Streaming_History_Audio_2022-2023_7.json\n",
      "   • Streaming_History_Audio_2023-2024_9.json\n",
      "   • Streaming_History_Audio_2023_8.json\n",
      "   • Streaming_History_Audio_2024-2025_11.json\n",
      "   • Streaming_History_Audio_2024_10.json\n",
      "   • Streaming_History_Video_2018-2025.json\n",
      "   • Streaming_History_Audio_2016-2018_0.json\n",
      "   • Streaming_History_Audio_2018-2019_2.json\n",
      "   • Streaming_History_Audio_2018_1.json\n",
      "   • Streaming_History_Audio_2019-2020_3.json\n",
      "   • Streaming_History_Audio_2020-2021_4.json\n",
      "   • Streaming_History_Audio_2021-2022_5.json\n",
      "   • Streaming_History_Audio_2022-2023_6.json\n",
      "   • Streaming_History_Audio_2023-2024_8.json\n",
      "   • Streaming_History_Audio_2023_7.json\n",
      "   • Streaming_History_Audio_2024-2025_9.json\n",
      "   • Streaming_History_Audio_2025_10.json\n",
      "   • Streaming_History_Video_2017-2025.json\n"
     ]
    }
   ],
   "source": [
    "# Buscamos todos los JSON bajo data/user*/Spotify Extended Streaming History\n",
    "json_paths = list(DATA_ROOT.glob(\"user*/Spotify Extended Streaming History/*.json\"))\n",
    "\n",
    "# Mensaje informativo antes de cargar\n",
    "if not json_paths:\n",
    "    raise FileNotFoundError(f\"🛑 No encontré ningún JSON en {DATA_ROOT}\")\n",
    "else:\n",
    "    print(f\"🔍 Encontrados {len(json_paths)} archivos JSON en total:\")\n",
    "    for p in json_paths:\n",
    "        print(\"   •\", p.name)\n"
   ]
  },
  {
   "cell_type": "markdown",
   "id": "410cb0f5",
   "metadata": {},
   "source": [
    "### 5. Carga de datos e inserción en MongoDB"
   ]
  },
  {
   "cell_type": "code",
   "execution_count": null,
   "id": "f4c09706",
   "metadata": {},
   "outputs": [
    {
     "name": "stderr",
     "output_type": "stream",
     "text": [
      "📥 Cargando registros: 100%|██████████| 52/52 [00:05<00:00,  9.72it/s]"
     ]
    },
    {
     "name": "stdout",
     "output_type": "stream",
     "text": [
      "🔢 Total de registros en memoria: 756,564\n"
     ]
    },
    {
     "name": "stderr",
     "output_type": "stream",
     "text": [
      "\n"
     ]
    }
   ],
   "source": [
    "from dateutil import parser\n",
    "\n",
    "records = []\n",
    "\n",
    "for path in tqdm(json_paths, desc=\"📥 Cargando registros\"):\n",
    "    user = path.parent.parent.name\n",
    "    with open(path, encoding=\"utf-8\") as f:\n",
    "        data = json.load(f)\n",
    "\n",
    "        def normalize_and_append(rec):\n",
    "            # 1) Convertir ts de string a datetime\n",
    "            rec[\"ts\"] = parser.isoparse(rec[\"ts\"])\n",
    "            # 2) Añadir etiqueta de usuario\n",
    "            rec[\"user\"] = user\n",
    "            records.append(rec)\n",
    "\n",
    "        if isinstance(data, list):\n",
    "            for rec in data:\n",
    "                normalize_and_append(rec)\n",
    "        else:\n",
    "            normalize_and_append(data)\n",
    "\n",
    "print(f\"🔢 Total de registros en memoria: {len(records):,}\")\n",
    "\n",
    "# Limpia colección si necesitas rehacer pruebas\n",
    "# coll.drop()"
   ]
  },
  {
   "cell_type": "code",
   "execution_count": 6,
   "id": "57ac4966",
   "metadata": {},
   "outputs": [
    {
     "name": "stdout",
     "output_type": "stream",
     "text": [
      "✅ Insertados 756,564 documentos en 'extended_streams'\n"
     ]
    }
   ],
   "source": [
    "# Insertar en bloque\n",
    "if records:\n",
    "    res = coll.insert_many(records)\n",
    "    print(f\"✅ Insertados {len(res.inserted_ids):,} documentos en '{COLL_NAME}'\")\n",
    "else:\n",
    "    print(\"⚠️ No había registros para insertar.\")"
   ]
  },
  {
   "cell_type": "markdown",
   "id": "6492351c",
   "metadata": {},
   "source": [
    "### 6. Validación rápida y recomendaciones"
   ]
  },
  {
   "cell_type": "code",
   "execution_count": 7,
   "id": "55cada8e",
   "metadata": {},
   "outputs": [
    {
     "name": "stdout",
     "output_type": "stream",
     "text": [
      "📊 Documentos totales en la colección: 756,564\n",
      "\n",
      "🔍 Ejemplo de documentos cargados:\n",
      "{'_id': ObjectId('6882871c274fc8efb3025f68'), 'ts': '2017-10-06T03:44:10Z', 'platform': 'Windows 10 (10.0.15063; x64)', 'ms_played': 285040, 'conn_country': 'EC', 'ip_addr': '190.152.176.16', 'master_metadata_track_name': 'Antes de que cuente diez', 'master_metadata_album_artist_name': 'Fito y Fitipaldis', 'master_metadata_album_album_name': 'Antes de que cuente diez', 'spotify_track_uri': 'spotify:track:3xiNRrrVROKlHrflHGNTfG', 'episode_name': None, 'episode_show_name': None, 'spotify_episode_uri': None, 'audiobook_title': None, 'audiobook_uri': None, 'audiobook_chapter_uri': None, 'audiobook_chapter_title': None, 'reason_start': 'trackdone', 'reason_end': 'trackdone', 'shuffle': False, 'skipped': False, 'offline': False, 'offline_timestamp': None, 'incognito_mode': False, 'user': 'user1'}\n",
      "{'_id': ObjectId('6882871c274fc8efb3025f69'), 'ts': '2017-10-06T03:49:02Z', 'platform': 'Windows 10 (10.0.15063; x64)', 'ms_played': 280933, 'conn_country': 'EC', 'ip_addr': '190.152.176.16', 'master_metadata_track_name': 'Entre dos mares', 'master_metadata_album_artist_name': 'Fito y Fitipaldis', 'master_metadata_album_album_name': 'Entre dos mares', 'spotify_track_uri': 'spotify:track:6CVWQbpZwP2ioxJz6zUEoU', 'episode_name': None, 'episode_show_name': None, 'spotify_episode_uri': None, 'audiobook_title': None, 'audiobook_uri': None, 'audiobook_chapter_uri': None, 'audiobook_chapter_title': None, 'reason_start': 'clickrow', 'reason_end': 'trackdone', 'shuffle': False, 'skipped': False, 'offline': False, 'offline_timestamp': None, 'incognito_mode': False, 'user': 'user1'}\n",
      "{'_id': ObjectId('6882871c274fc8efb3025f6a'), 'ts': '2017-10-06T03:53:36Z', 'platform': 'Windows 10 (10.0.15063; x64)', 'ms_played': 47781, 'conn_country': 'EC', 'ip_addr': '190.152.176.16', 'master_metadata_track_name': 'Monstruos', 'master_metadata_album_artist_name': 'Leiva', 'master_metadata_album_album_name': 'Monstruos', 'spotify_track_uri': 'spotify:track:2zQSoFnkWXzQwyh77xuQ0t', 'episode_name': None, 'episode_show_name': None, 'spotify_episode_uri': None, 'audiobook_title': None, 'audiobook_uri': None, 'audiobook_chapter_uri': None, 'audiobook_chapter_title': None, 'reason_start': 'trackdone', 'reason_end': 'endplay', 'shuffle': False, 'skipped': False, 'offline': False, 'offline_timestamp': None, 'incognito_mode': False, 'user': 'user1'}\n",
      "{'_id': ObjectId('6882871c274fc8efb3025f6b'), 'ts': '2017-10-06T03:57:26Z', 'platform': 'Windows 10 (10.0.15063; x64)', 'ms_played': 230634, 'conn_country': 'EC', 'ip_addr': '190.152.176.16', 'master_metadata_track_name': 'Spectre', 'master_metadata_album_artist_name': 'Alan Walker', 'master_metadata_album_album_name': 'Spectre', 'spotify_track_uri': 'spotify:track:0lMrWcrVXHPEuVBuc0nRzZ', 'episode_name': None, 'episode_show_name': None, 'spotify_episode_uri': None, 'audiobook_title': None, 'audiobook_uri': None, 'audiobook_chapter_uri': None, 'audiobook_chapter_title': None, 'reason_start': 'clickrow', 'reason_end': 'trackdone', 'shuffle': False, 'skipped': False, 'offline': False, 'offline_timestamp': None, 'incognito_mode': False, 'user': 'user1'}\n",
      "{'_id': ObjectId('6882871c274fc8efb3025f6c'), 'ts': '2017-10-06T04:01:50Z', 'platform': 'Windows 10 (10.0.15063; x64)', 'ms_played': 264013, 'conn_country': 'EC', 'ip_addr': '190.152.176.16', 'master_metadata_track_name': 'Fade', 'master_metadata_album_artist_name': 'Alan Walker', 'master_metadata_album_album_name': 'Fade', 'spotify_track_uri': 'spotify:track:2lfPecqFbH8X4lHSpTxt8l', 'episode_name': None, 'episode_show_name': None, 'spotify_episode_uri': None, 'audiobook_title': None, 'audiobook_uri': None, 'audiobook_chapter_uri': None, 'audiobook_chapter_title': None, 'reason_start': 'trackdone', 'reason_end': 'trackdone', 'shuffle': False, 'skipped': False, 'offline': False, 'offline_timestamp': None, 'incognito_mode': False, 'user': 'user1'}\n"
     ]
    }
   ],
   "source": [
    "# Validación\n",
    "total = coll.count_documents({})\n",
    "print(f\"📊 Documentos totales en la colección: {total:,}\")\n",
    "\n",
    "# Mostrar un sample de 5 documentos\n",
    "print(\"\\n🔍 Ejemplo de documentos cargados:\")\n",
    "for doc in coll.find().limit(5):\n",
    "    print(doc)"
   ]
  },
  {
   "cell_type": "markdown",
   "id": "efcaccff",
   "metadata": {},
   "source": [
    "### 7. Optimización para consultas desde Power BI.\n",
    "\n",
    "Para la optimización de consultas desde Power BI creamos un índice compuesto por user y timestamp (ts)"
   ]
  },
  {
   "cell_type": "code",
   "execution_count": 8,
   "id": "9a8728d6",
   "metadata": {},
   "outputs": [
    {
     "data": {
      "text/plain": [
       "'idx_user_ts'"
      ]
     },
     "execution_count": 8,
     "metadata": {},
     "output_type": "execute_result"
    }
   ],
   "source": [
    "# Crear índice compuesto para búsquedas por usuario y orden cronológico\n",
    "coll.create_index([(\"user\", 1), (\"ts\", 1)], name=\"idx_user_ts\")\n"
   ]
  },
  {
   "cell_type": "code",
   "execution_count": null,
   "id": "87aad160",
   "metadata": {},
   "outputs": [
    {
     "name": "stdout",
     "output_type": "stream",
     "text": [
      "✅ Documentos afectados: 0\n",
      "   (Total chequeados: 756,564)\n"
     ]
    }
   ],
   "source": [
    "# Convertir ts de string a Date en toda la colección \n",
    "from pymongo import MongoClient\n",
    "\n",
    "update_result = coll.update_many(\n",
    "    {},  # todos los documentos\n",
    "    [\n",
    "        { \"$set\": { \"ts\": { \"$toDate\": \"$ts\" } } }\n",
    "    ]\n",
    ")\n",
    "\n",
    "print(f\"✅ Documentos afectados: {update_result.modified_count:,}\")\n",
    "print(f\"   (Total chequeados: {update_result.matched_count:,})\")\n",
    "\n"
   ]
  },
  {
   "cell_type": "code",
   "execution_count": null,
   "id": "1e5a8367",
   "metadata": {},
   "outputs": [
    {
     "name": "stdout",
     "output_type": "stream",
     "text": [
      "Tipo de ts: <class 'datetime.datetime'>\n",
      "Valor de ts: 2017-10-06 03:44:10\n"
     ]
    }
   ],
   "source": [
    "# Validación del tipo de campo ts en un documento de ejemplo\n",
    "sample = coll.find_one({})\n",
    "print(\"Tipo de ts:\", type(sample[\"ts\"]))\n",
    "print(\"Valor de ts:\", sample[\"ts\"])\n"
   ]
  },
  {
   "cell_type": "code",
   "execution_count": null,
   "id": "eff775b7",
   "metadata": {},
   "outputs": [
    {
     "name": "stdout",
     "output_type": "stream",
     "text": [
      "Documentos con ts en string: 0\n"
     ]
    }
   ],
   "source": [
    "# Validar que no queden documentos con ts como string\n",
    "\n",
    "# Cuenta cuántos documentos tienen ts de tipo string\n",
    "string_count = coll.count_documents({ \"ts\": { \"$type\": \"string\" } })\n",
    "print(f\"Documentos con ts en string: {string_count}\")\n",
    "\n",
    "# Opcional: lanzar error si hay alguno\n",
    "assert string_count == 0, f\"⚠️ Aún hay {string_count} documentos con ts como string\"\n"
   ]
  }
 ],
 "metadata": {
  "kernelspec": {
   "display_name": ".venv (3.12.7)",
   "language": "python",
   "name": "python3"
  },
  "language_info": {
   "codemirror_mode": {
    "name": "ipython",
    "version": 3
   },
   "file_extension": ".py",
   "mimetype": "text/x-python",
   "name": "python",
   "nbconvert_exporter": "python",
   "pygments_lexer": "ipython3",
   "version": "3.12.7"
  }
 },
 "nbformat": 4,
 "nbformat_minor": 5
}
